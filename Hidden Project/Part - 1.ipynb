{
 "cells": [
  {
   "cell_type": "code",
   "execution_count": 1,
   "metadata": {},
   "outputs": [],
   "source": [
    "import random"
   ]
  },
  {
   "cell_type": "code",
   "execution_count": 2,
   "metadata": {},
   "outputs": [],
   "source": [
    "def Rand(start, end, num): \n",
    "    res = [] \n",
    "  \n",
    "    for j in range(num): \n",
    "        res.append(random.randint(start, end)) \n",
    "  \n",
    "    return res\n",
    "    "
   ]
  },
  {
   "cell_type": "code",
   "execution_count": 3,
   "metadata": {},
   "outputs": [],
   "source": [
    "list = Rand(1,99,99)"
   ]
  },
  {
   "cell_type": "code",
   "execution_count": 4,
   "metadata": {},
   "outputs": [
    {
     "data": {
      "text/plain": [
       "[45,\n",
       " 64,\n",
       " 80,\n",
       " 80,\n",
       " 34,\n",
       " 40,\n",
       " 25,\n",
       " 75,\n",
       " 5,\n",
       " 31,\n",
       " 50,\n",
       " 75,\n",
       " 66,\n",
       " 84,\n",
       " 85,\n",
       " 4,\n",
       " 92,\n",
       " 87,\n",
       " 75,\n",
       " 33,\n",
       " 53,\n",
       " 77,\n",
       " 35,\n",
       " 69,\n",
       " 95,\n",
       " 63,\n",
       " 52,\n",
       " 71,\n",
       " 37,\n",
       " 4,\n",
       " 43,\n",
       " 23,\n",
       " 91,\n",
       " 61,\n",
       " 73,\n",
       " 51,\n",
       " 35,\n",
       " 59,\n",
       " 81,\n",
       " 55,\n",
       " 10,\n",
       " 78,\n",
       " 96,\n",
       " 68,\n",
       " 36,\n",
       " 19,\n",
       " 26,\n",
       " 80,\n",
       " 15,\n",
       " 64,\n",
       " 80,\n",
       " 86,\n",
       " 37,\n",
       " 36,\n",
       " 91,\n",
       " 66,\n",
       " 62,\n",
       " 99,\n",
       " 27,\n",
       " 18,\n",
       " 31,\n",
       " 65,\n",
       " 66,\n",
       " 29,\n",
       " 95,\n",
       " 10,\n",
       " 79,\n",
       " 39,\n",
       " 39,\n",
       " 12,\n",
       " 15,\n",
       " 92,\n",
       " 7,\n",
       " 78,\n",
       " 98,\n",
       " 38,\n",
       " 58,\n",
       " 56,\n",
       " 31,\n",
       " 28,\n",
       " 14,\n",
       " 99,\n",
       " 80,\n",
       " 1,\n",
       " 15,\n",
       " 6,\n",
       " 98,\n",
       " 38,\n",
       " 76,\n",
       " 44,\n",
       " 21,\n",
       " 43,\n",
       " 18,\n",
       " 27,\n",
       " 76,\n",
       " 79,\n",
       " 76,\n",
       " 17,\n",
       " 51]"
      ]
     },
     "execution_count": 4,
     "metadata": {},
     "output_type": "execute_result"
    }
   ],
   "source": [
    "list"
   ]
  },
  {
   "cell_type": "code",
   "execution_count": 6,
   "metadata": {},
   "outputs": [
    {
     "name": "stdout",
     "output_type": "stream",
     "text": [
      "45\n"
     ]
    }
   ],
   "source": [
    "my_iter = iter(list)\n",
    "import threading\n",
    "def mytimer():\n",
    "    \n",
    "    print(next(my_iter))\n",
    "my_timer = threading.Timer(5,mytimer)\n",
    "my_timer.start()\n"
   ]
  },
  {
   "cell_type": "code",
   "execution_count": 7,
   "metadata": {},
   "outputs": [
    {
     "name": "stdout",
     "output_type": "stream",
     "text": [
      "64\n"
     ]
    }
   ],
   "source": [
    "print(next(my_iter))"
   ]
  },
  {
   "cell_type": "code",
   "execution_count": null,
   "metadata": {},
   "outputs": [],
   "source": [
    "import sched, time\n",
    "s = sched.scheduler(time.time, time.sleep)\n",
    "def do_something(sc): \n",
    "    print(next(my_iter))\n",
    "    s.enter(2, 1, do_something, (sc,))\n",
    "\n",
    "s.enter(2, 1, do_something, (s,))\n",
    "s.run()\n",
    "s.stop()"
   ]
  },
  {
   "cell_type": "code",
   "execution_count": null,
   "metadata": {},
   "outputs": [],
   "source": []
  }
 ],
 "metadata": {
  "kernelspec": {
   "display_name": "Python 3",
   "language": "python",
   "name": "python3"
  },
  "language_info": {
   "codemirror_mode": {
    "name": "ipython",
    "version": 3
   },
   "file_extension": ".py",
   "mimetype": "text/x-python",
   "name": "python",
   "nbconvert_exporter": "python",
   "pygments_lexer": "ipython3",
   "version": "3.7.6"
  }
 },
 "nbformat": 4,
 "nbformat_minor": 4
}
